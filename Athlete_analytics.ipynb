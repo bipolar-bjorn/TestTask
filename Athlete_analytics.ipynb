{
 "cells": [
  {
   "cell_type": "markdown",
   "id": "0435a6f3",
   "metadata": {},
   "source": [
    "<title><h1>Вторая часть тестового задания</h1></title>\n",
    "<p>Цель - провести разведочный анализ датасета, проверить его на выбросы и на общее качество данных</p>\n",
    "<p></p>"
   ]
  },
  {
   "cell_type": "code",
   "execution_count": null,
   "id": "5491030d",
   "metadata": {},
   "outputs": [],
   "source": []
  }
 ],
 "metadata": {
  "kernelspec": {
   "display_name": "Python 3 (ipykernel)",
   "language": "python",
   "name": "python3"
  },
  "language_info": {
   "codemirror_mode": {
    "name": "ipython",
    "version": 3
   },
   "file_extension": ".py",
   "mimetype": "text/x-python",
   "name": "python",
   "nbconvert_exporter": "python",
   "pygments_lexer": "ipython3",
   "version": "3.10.7"
  }
 },
 "nbformat": 4,
 "nbformat_minor": 5
}
